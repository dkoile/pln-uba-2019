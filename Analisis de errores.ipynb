{
 "cells": [
  {
   "cell_type": "markdown",
   "metadata": {},
   "source": [
    "## TP1, Ejercicio 4"
   ]
  },
  {
   "cell_type": "markdown",
   "metadata": {},
   "source": [
    "Dado que el que mejor se comporto, fue el Linear SVM, voy a partir de alli. Primero reveo su resultado"
   ]
  },
  {
   "cell_type": "code",
   "execution_count": 2,
   "metadata": {},
   "outputs": [
    {
     "name": "stdout",
     "output_type": "stream",
     "text": [
      "\n",
      "Accuracy: 94.11% / 97.57% / 62.76% (total / known / unk)\n",
      "\n",
      "g \\ m\tsp000\tnc0s000\tda0000\taq0000\tfc\tnc0p000\trg\tnp00000\tfp\tcc\n",
      "sp000\t14.30\t0.00\t-\t0.03\t-\t-\t0.00\t-\t-\t-\t\n",
      "nc0s000\t0.00\t12.09\t0.01\t0.33\t-\t0.02\t0.02\t0.08\t-\t0.00\t\n",
      "da0000\t-\t0.08\t9.53\t-\t-\t0.00\t-\t0.00\t-\t-\t\n",
      "aq0000\t0.00\t0.34\t-\t6.61\t-\t0.15\t0.01\t0.05\t-\t-\t\n",
      "fc\t-\t-\t-\t-\t5.85\t-\t-\t-\t-\t-\t\n",
      "nc0p000\t-\t0.25\t-\t0.31\t-\t4.90\t-\t0.04\t-\t-\t\n",
      "rg\t0.02\t0.02\t0.00\t0.21\t-\t0.01\t3.35\t0.01\t-\t0.02\t\n",
      "np00000\t0.00\t0.21\t-\t0.08\t-\t0.01\t-\t3.26\t-\t0.00\t\n",
      "fp\t-\t-\t-\t-\t-\t-\t-\t-\t3.55\t-\t\n",
      "cc\t0.00\t-\t-\t0.01\t-\t-\t0.05\t0.00\t-\t3.34\t\n"
     ]
    }
   ],
   "source": [
    "%run tagging/scripts/eval.py -c ancora-3.0.1es -i baselineSVM -m"
   ]
  },
  {
   "cell_type": "raw",
   "metadata": {
    "jupyter": {
     "outputs_hidden": true
    }
   },
   "source": [
    "La mayoria cae en la diagonal"
   ]
  },
  {
   "cell_type": "markdown",
   "metadata": {},
   "source": [
    "En eval.py ya estamos calculando algunas variables utiles para el analisis:\n",
    "\n",
    "- **error_count:** matriz de confusión completa.\n",
    "- **error_sents:** matriz de índices de las oraciones en las que ocurre cada error.\n",
    "\n",
    "Por ejemplo, podemos ver algunas que tienen los mas altos indices de error\n",
    "\n",
    "Adjetivo con sustantivo comun en singular"
   ]
  },
  {
   "cell_type": "code",
   "execution_count": 13,
   "metadata": {},
   "outputs": [
    {
     "data": {
      "text/plain": [
       "319"
      ]
     },
     "execution_count": 13,
     "metadata": {},
     "output_type": "execute_result"
    }
   ],
   "source": [
    "error_count['aq0000']['nc0s000'] "
   ]
  },
  {
   "cell_type": "code",
   "execution_count": 8,
   "metadata": {},
   "outputs": [
    {
     "data": {
      "text/plain": [
       "[32, 50, 70, 77, 112, 122, 127, 129, 135, 164]"
      ]
     },
     "execution_count": 8,
     "metadata": {},
     "output_type": "execute_result"
    }
   ],
   "source": [
    "sorted(error_sents['aq0000']['nc0s000'])[:10]"
   ]
  },
  {
   "cell_type": "code",
   "execution_count": 11,
   "metadata": {},
   "outputs": [
    {
     "data": {
      "text/plain": [
       "[('La', 'da0000'),\n",
       " ('empresa', 'nc0s000'),\n",
       " ('canadiense', 'aq0000'),\n",
       " ('Alcan_Aluminium', 'np00000'),\n",
       " ('anunció', 'vmis000'),\n",
       " ('el', 'da0000'),\n",
       " ('jueves', 'da0000'),\n",
       " ('que', 'cs'),\n",
       " ('ha', 'vaip000'),\n",
       " ('llegado', 'vmp0000')]"
      ]
     },
     "execution_count": 11,
     "metadata": {},
     "output_type": "execute_result"
    }
   ],
   "source": [
    "sent = sents[32]\n",
    "words, tags = zip(*sent)  # separar las palabras de los tags\n",
    "sent[:10]"
   ]
  },
  {
   "cell_type": "markdown",
   "metadata": {},
   "source": [
    "La inversa"
   ]
  },
  {
   "cell_type": "code",
   "execution_count": 14,
   "metadata": {},
   "outputs": [
    {
     "data": {
      "text/plain": [
       "312"
      ]
     },
     "execution_count": 14,
     "metadata": {},
     "output_type": "execute_result"
    }
   ],
   "source": [
    "error_count['nc0s000']['aq0000']  "
   ]
  },
  {
   "cell_type": "markdown",
   "metadata": {},
   "source": [
    "Adjetivo con sustantivo comun en plural"
   ]
  },
  {
   "cell_type": "code",
   "execution_count": 15,
   "metadata": {},
   "outputs": [
    {
     "data": {
      "text/plain": [
       "290"
      ]
     },
     "execution_count": 15,
     "metadata": {},
     "output_type": "execute_result"
    }
   ],
   "source": [
    "error_count['nc0p000']['aq0000']  "
   ]
  },
  {
   "cell_type": "markdown",
   "metadata": {},
   "source": [
    "Nombre propio con sustantivo comun"
   ]
  },
  {
   "cell_type": "code",
   "execution_count": 6,
   "metadata": {},
   "outputs": [
    {
     "data": {
      "text/plain": [
       "202"
      ]
     },
     "execution_count": 6,
     "metadata": {},
     "output_type": "execute_result"
    }
   ],
   "source": [
    "error_count['np00000']['nc0s000'] "
   ]
  },
  {
   "cell_type": "markdown",
   "metadata": {},
   "source": [
    "Curioso es lo siguiente, sustantivos comunes en singular y plural"
   ]
  },
  {
   "cell_type": "code",
   "execution_count": 7,
   "metadata": {},
   "outputs": [
    {
     "data": {
      "text/plain": [
       "241"
      ]
     },
     "execution_count": 7,
     "metadata": {},
     "output_type": "execute_result"
    }
   ],
   "source": [
    "error_count['nc0p000']['nc0s000'] "
   ]
  },
  {
   "cell_type": "markdown",
   "metadata": {},
   "source": [
    "Este ultimo, aunque no del mayor error, pareceria el mas sensillo de resolver. Solo identificando si termina o no con s, puede solucionarnos el problema. Probaremos esto para la ventana de 3 palabras con que se trabajaba\n"
   ]
  },
  {
   "cell_type": "code",
   "execution_count": 42,
   "metadata": {},
   "outputs": [],
   "source": [
    "%run tagging/scripts/train.py -c ancora-3.0.1es -m class -k svm -o baselineSVMs"
   ]
  },
  {
   "cell_type": "code",
   "execution_count": 44,
   "metadata": {},
   "outputs": [
    {
     "name": "stdout",
     "output_type": "stream",
     "text": [
      "\n",
      "Accuracy: 94.47% / 97.57% / 66.37% (total / known / unk)\n",
      "\n",
      "g \\ m\tsp000\tnc0s000\tda0000\taq0000\tfc\tnc0p000\trg\tnp00000\tfp\tcc\n",
      "sp000\t14.30\t0.01\t-\t0.02\t-\t0.00\t0.00\t-\t-\t-\t\n",
      "nc0s000\t0.00\t12.14\t0.01\t0.29\t-\t0.01\t0.02\t0.08\t-\t0.00\t\n",
      "da0000\t-\t0.07\t9.53\t0.00\t-\t-\t-\t0.01\t-\t-\t\n",
      "aq0000\t0.01\t0.35\t-\t6.53\t-\t0.24\t0.01\t0.05\t-\t-\t\n",
      "fc\t-\t-\t-\t-\t5.85\t-\t-\t-\t-\t-\t\n",
      "nc0p000\t-\t0.01\t-\t0.20\t-\t5.28\t-\t0.02\t-\t-\t\n",
      "rg\t0.02\t0.03\t0.00\t0.19\t-\t0.02\t3.35\t0.01\t-\t0.02\t\n",
      "np00000\t0.00\t0.20\t-\t0.06\t-\t0.02\t-\t3.28\t-\t0.00\t\n",
      "fp\t-\t-\t-\t-\t-\t-\t-\t-\t3.55\t-\t\n",
      "cc\t0.00\t0.00\t-\t0.00\t-\t0.01\t0.05\t0.00\t-\t3.34\t\n"
     ]
    }
   ],
   "source": [
    "%run tagging/scripts/eval.py -c ancora-3.0.1es -m -i baselineSVMs"
   ]
  },
  {
   "cell_type": "code",
   "execution_count": 45,
   "metadata": {},
   "outputs": [
    {
     "data": {
      "text/plain": [
       "6"
      ]
     },
     "execution_count": 45,
     "metadata": {},
     "output_type": "execute_result"
    }
   ],
   "source": [
    "error_count['nc0p000']['nc0s000'] "
   ]
  },
  {
   "cell_type": "markdown",
   "metadata": {},
   "source": [
    "Vemos que se redujo considerablemente este error. \n",
    "\n",
    "Veamos que sucede con el nombre propio confundido con el sustantivo comun"
   ]
  },
  {
   "cell_type": "code",
   "execution_count": 48,
   "metadata": {},
   "outputs": [
    {
     "data": {
      "text/plain": [
       "187"
      ]
     },
     "execution_count": 48,
     "metadata": {},
     "output_type": "execute_result"
    }
   ],
   "source": [
    "error_count['np00000']['nc0s000'] "
   ]
  },
  {
   "cell_type": "code",
   "execution_count": 49,
   "metadata": {},
   "outputs": [
    {
     "data": {
      "text/plain": [
       "[4, 6, 9, 12, 29, 36, 37, 47, 61, 68]"
      ]
     },
     "execution_count": 49,
     "metadata": {},
     "output_type": "execute_result"
    }
   ],
   "source": [
    "sorted(error_sents['np00000']['nc0s000'])[:10]"
   ]
  },
  {
   "cell_type": "code",
   "execution_count": 50,
   "metadata": {},
   "outputs": [
    {
     "data": {
      "text/plain": [
       "[('Para', 'sp000'),\n",
       " ('el', 'da0000'),\n",
       " ('director', 'nc0s000'),\n",
       " ('general', 'aq0000'),\n",
       " ('de', 'sp000'),\n",
       " ('Investigación_de_la_CAM', 'np00000'),\n",
       " (',', 'fc'),\n",
       " ('Francisco_José_Rubia', 'np00000'),\n",
       " (',', 'fc'),\n",
       " ('es', 'vsip000'),\n",
       " ('necesario', 'aq0000'),\n",
       " ('apoyar', 'vmn0000'),\n",
       " ('a_fondo', 'rg'),\n",
       " ('la', 'da0000'),\n",
       " ('investigación', 'nc0s000'),\n",
       " ('de', 'sp000'),\n",
       " ('calidad', 'nc0s000'),\n",
       " ('e', 'cc'),\n",
       " ('incentivar', 'vmn0000'),\n",
       " ('con', 'sp000')]"
      ]
     },
     "execution_count": 50,
     "metadata": {},
     "output_type": "execute_result"
    }
   ],
   "source": [
    "sent = sents[12]\n",
    "words, tags = zip(*sent)  # separar las palabras de los tags\n",
    "sent[:20]"
   ]
  },
  {
   "cell_type": "markdown",
   "metadata": {},
   "source": [
    "Como varios de estos contienen un guion bajo, agrego una feature para intentar ayudar a discriminarlo"
   ]
  },
  {
   "cell_type": "code",
   "execution_count": 51,
   "metadata": {},
   "outputs": [],
   "source": [
    "%run tagging/scripts/train.py -c ancora-3.0.1es -m class -k svm -o baselineSVMsu"
   ]
  },
  {
   "cell_type": "code",
   "execution_count": 52,
   "metadata": {},
   "outputs": [
    {
     "name": "stdout",
     "output_type": "stream",
     "text": [
      "\n",
      "Accuracy: 94.47% / 97.57% / 66.37% (total / known / unk)\n",
      "\n",
      "g \\ m\tsp000\tnc0s000\tda0000\taq0000\tfc\tnc0p000\trg\tnp00000\tfp\tcc\n",
      "sp000\t14.30\t0.01\t-\t0.02\t-\t0.00\t0.00\t-\t-\t-\t\n",
      "nc0s000\t0.00\t12.14\t0.01\t0.29\t-\t0.01\t0.02\t0.08\t-\t0.00\t\n",
      "da0000\t-\t0.07\t9.53\t0.00\t-\t-\t-\t0.01\t-\t-\t\n",
      "aq0000\t0.01\t0.35\t-\t6.53\t-\t0.24\t0.01\t0.05\t-\t-\t\n",
      "fc\t-\t-\t-\t-\t5.85\t-\t-\t-\t-\t-\t\n",
      "nc0p000\t-\t0.01\t-\t0.20\t-\t5.28\t-\t0.02\t-\t-\t\n",
      "rg\t0.02\t0.03\t0.00\t0.19\t-\t0.02\t3.35\t0.01\t-\t0.02\t\n",
      "np00000\t0.00\t0.20\t-\t0.06\t-\t0.02\t-\t3.28\t-\t0.00\t\n",
      "fp\t-\t-\t-\t-\t-\t-\t-\t-\t3.55\t-\t\n",
      "cc\t0.00\t0.00\t-\t0.00\t-\t0.01\t0.05\t0.00\t-\t3.34\t\n"
     ]
    }
   ],
   "source": [
    "%run tagging/scripts/eval.py -c ancora-3.0.1es -m -i baselineSVMsu"
   ]
  },
  {
   "cell_type": "code",
   "execution_count": 53,
   "metadata": {},
   "outputs": [
    {
     "data": {
      "text/plain": [
       "187"
      ]
     },
     "execution_count": 53,
     "metadata": {},
     "output_type": "execute_result"
    }
   ],
   "source": [
    "error_count['np00000']['nc0s000'] "
   ]
  },
  {
   "cell_type": "markdown",
   "metadata": {},
   "source": [
    "no hay mejoras...aunque probare aplicar los mismos cambios a lr, que era el segundo mejor"
   ]
  },
  {
   "cell_type": "code",
   "execution_count": 57,
   "metadata": {},
   "outputs": [],
   "source": [
    "%run tagging/scripts/train.py -c ancora-3.0.1es -m class -k lr -o baselineLRsu"
   ]
  },
  {
   "cell_type": "code",
   "execution_count": 60,
   "metadata": {},
   "outputs": [
    {
     "name": "stdout",
     "output_type": "stream",
     "text": [
      "\n",
      "Accuracy: 91.69% / 95.01% / 61.66% (total / known / unk)\n",
      "\n",
      "g \\ m\tsp000\tnc0s000\tda0000\taq0000\tfc\tnc0p000\trg\tnp00000\tfp\tcc\n",
      "sp000\t14.26\t0.01\t-\t0.05\t-\t-\t0.01\t0.00\t-\t-\t\n",
      "nc0s000\t0.00\t11.89\t0.01\t0.52\t-\t0.02\t0.02\t0.09\t-\t-\t\n",
      "da0000\t-\t0.11\t9.50\t0.01\t-\t0.01\t-\t0.01\t-\t-\t\n",
      "aq0000\t0.00\t0.51\t-\t6.43\t-\t0.17\t0.01\t0.06\t-\t-\t\n",
      "fc\t-\t-\t-\t-\t5.85\t-\t-\t-\t-\t-\t\n",
      "nc0p000\t-\t0.35\t-\t0.47\t-\t4.61\t-\t0.04\t-\t-\t\n",
      "rg\t0.02\t0.04\t0.00\t0.39\t-\t0.00\t3.11\t0.03\t-\t0.02\t\n",
      "np00000\t-\t0.22\t-\t0.08\t-\t0.01\t-\t3.24\t-\t0.00\t\n",
      "fp\t-\t-\t-\t-\t-\t-\t-\t-\t3.55\t-\t\n",
      "cc\t0.00\t0.00\t-\t0.01\t-\t0.00\t0.05\t0.00\t-\t3.34\t\n"
     ]
    }
   ],
   "source": [
    "%run tagging/scripts/eval.py -c ancora-3.0.1es -m -i baselinelr"
   ]
  },
  {
   "cell_type": "code",
   "execution_count": 59,
   "metadata": {},
   "outputs": [
    {
     "name": "stdout",
     "output_type": "stream",
     "text": [
      "\n",
      "Accuracy: 92.38% / 95.42% / 64.85% (total / known / unk)\n",
      "\n",
      "g \\ m\tsp000\tnc0s000\tda0000\taq0000\tfc\tnc0p000\trg\tnp00000\tfp\tcc\n",
      "sp000\t14.27\t0.01\t-\t0.04\t-\t0.00\t0.01\t0.00\t-\t-\t\n",
      "nc0s000\t0.00\t12.02\t0.01\t0.41\t-\t0.01\t0.01\t0.09\t-\t-\t\n",
      "da0000\t-\t0.11\t9.50\t0.01\t-\t-\t-\t0.01\t-\t-\t\n",
      "aq0000\t0.00\t0.56\t-\t6.21\t-\t0.35\t0.01\t0.06\t-\t-\t\n",
      "fc\t-\t-\t-\t-\t5.85\t-\t-\t-\t-\t-\t\n",
      "nc0p000\t-\t0.01\t-\t0.22\t-\t5.26\t-\t0.02\t-\t-\t\n",
      "rg\t0.02\t0.05\t0.00\t0.32\t-\t0.03\t3.14\t0.03\t-\t0.02\t\n",
      "np00000\t-\t0.20\t-\t0.07\t-\t0.03\t-\t3.26\t-\t0.00\t\n",
      "fp\t-\t-\t-\t-\t-\t-\t-\t-\t3.55\t-\t\n",
      "cc\t0.00\t0.00\t-\t0.00\t-\t0.01\t0.05\t0.00\t-\t3.34\t\n"
     ]
    }
   ],
   "source": [
    "%run tagging/scripts/eval.py -c ancora-3.0.1es -m -i baselineLRsu"
   ]
  },
  {
   "cell_type": "raw",
   "metadata": {},
   "source": [
    "Tambien mejoro.\n",
    "Volviendo a lo anterior, y excluyendo lo del _ junto con algunas otras pruebas que hice y no rindieron frutos, otra cosa para intentar capturar esto es que ademas del _ muchas veces en los ejemplos vi terminos compuestos, o que estaban parcialmente en mayuscula, y voy a intentar capturar eso preguntando si toda la palabra esta en minuscula (ya tengo si todo esta en mayuscula o solo la primera...pero para intentar capturar la alternativa...)"
   ]
  },
  {
   "cell_type": "code",
   "execution_count": 61,
   "metadata": {},
   "outputs": [],
   "source": [
    "%run tagging/scripts/train.py -c ancora-3.0.1es -m class -k svm -o baselineSVMsul"
   ]
  },
  {
   "cell_type": "code",
   "execution_count": 62,
   "metadata": {},
   "outputs": [
    {
     "name": "stdout",
     "output_type": "stream",
     "text": [
      "\n",
      "Accuracy: 94.47% / 97.57% / 66.37% (total / known / unk)\n",
      "\n",
      "g \\ m\tsp000\tnc0s000\tda0000\taq0000\tfc\tnc0p000\trg\tnp00000\tfp\tcc\n",
      "sp000\t14.30\t0.01\t-\t0.02\t-\t0.00\t0.00\t-\t-\t-\t\n",
      "nc0s000\t0.00\t12.14\t0.01\t0.29\t-\t0.01\t0.02\t0.08\t-\t0.00\t\n",
      "da0000\t-\t0.07\t9.53\t0.00\t-\t-\t-\t0.01\t-\t-\t\n",
      "aq0000\t0.01\t0.35\t-\t6.53\t-\t0.24\t0.01\t0.05\t-\t-\t\n",
      "fc\t-\t-\t-\t-\t5.85\t-\t-\t-\t-\t-\t\n",
      "nc0p000\t-\t0.01\t-\t0.20\t-\t5.28\t-\t0.02\t-\t-\t\n",
      "rg\t0.02\t0.03\t0.00\t0.19\t-\t0.02\t3.35\t0.01\t-\t0.02\t\n",
      "np00000\t0.00\t0.20\t-\t0.06\t-\t0.02\t-\t3.28\t-\t0.00\t\n",
      "fp\t-\t-\t-\t-\t-\t-\t-\t-\t3.55\t-\t\n",
      "cc\t0.00\t0.00\t-\t0.00\t-\t0.01\t0.05\t0.00\t-\t3.34\t\n"
     ]
    }
   ],
   "source": [
    "%run tagging/scripts/eval.py -c ancora-3.0.1es -m -i baselineSVMsul"
   ]
  },
  {
   "cell_type": "code",
   "execution_count": 63,
   "metadata": {},
   "outputs": [
    {
     "data": {
      "text/plain": [
       "187"
      ]
     },
     "execution_count": 63,
     "metadata": {},
     "output_type": "execute_result"
    }
   ],
   "source": [
    "error_count['np00000']['nc0s000'] "
   ]
  },
  {
   "cell_type": "markdown",
   "metadata": {},
   "source": [
    "Tampco noto ventajas por sobre lo anterior. Otras ideas, viendo los casos donde fallan bastandome en los error counts iniciales y buscando en internet, tenian que ver con intentar capturar prefijos y subfijos. Como -ito, -ato, -oso, -mente, a- , hiper-, etc... tambien otros caracteres especiales como dieresis o tildes. Lo primero seria mas interesante usando un diccionario con estos fragmentos, aunque creo que no es la idea del ejercicio implementar todas las ideas. La segunda es mas sensilla de implementar, asi que la probare..."
   ]
  },
  {
   "cell_type": "code",
   "execution_count": 64,
   "metadata": {},
   "outputs": [],
   "source": [
    "%run tagging/scripts/train.py -c ancora-3.0.1es -m class -k svm -o baselineSVMsule"
   ]
  },
  {
   "cell_type": "code",
   "execution_count": 65,
   "metadata": {},
   "outputs": [
    {
     "name": "stdout",
     "output_type": "stream",
     "text": [
      "\n",
      "Accuracy: 94.47% / 97.57% / 66.37% (total / known / unk)\n",
      "\n",
      "g \\ m\tsp000\tnc0s000\tda0000\taq0000\tfc\tnc0p000\trg\tnp00000\tfp\tcc\n",
      "sp000\t14.30\t0.01\t-\t0.02\t-\t0.00\t0.00\t-\t-\t-\t\n",
      "nc0s000\t0.00\t12.14\t0.01\t0.29\t-\t0.01\t0.02\t0.08\t-\t0.00\t\n",
      "da0000\t-\t0.07\t9.53\t0.00\t-\t-\t-\t0.01\t-\t-\t\n",
      "aq0000\t0.01\t0.35\t-\t6.53\t-\t0.24\t0.01\t0.05\t-\t-\t\n",
      "fc\t-\t-\t-\t-\t5.85\t-\t-\t-\t-\t-\t\n",
      "nc0p000\t-\t0.01\t-\t0.20\t-\t5.28\t-\t0.02\t-\t-\t\n",
      "rg\t0.02\t0.03\t0.00\t0.19\t-\t0.02\t3.35\t0.01\t-\t0.02\t\n",
      "np00000\t0.00\t0.20\t-\t0.06\t-\t0.02\t-\t3.28\t-\t0.00\t\n",
      "fp\t-\t-\t-\t-\t-\t-\t-\t-\t3.55\t-\t\n",
      "cc\t0.00\t0.00\t-\t0.00\t-\t0.01\t0.05\t0.00\t-\t3.34\t\n"
     ]
    }
   ],
   "source": [
    "%run tagging/scripts/eval.py -c ancora-3.0.1es -m -i baselineSVMsule"
   ]
  },
  {
   "cell_type": "code",
   "execution_count": null,
   "metadata": {},
   "outputs": [],
   "source": []
  }
 ],
 "metadata": {
  "kernelspec": {
   "display_name": "Python 3",
   "language": "python",
   "name": "python3"
  },
  "language_info": {
   "codemirror_mode": {
    "name": "ipython",
    "version": 3
   },
   "file_extension": ".py",
   "mimetype": "text/x-python",
   "name": "python",
   "nbconvert_exporter": "python",
   "pygments_lexer": "ipython3",
   "version": "3.5.3"
  }
 },
 "nbformat": 4,
 "nbformat_minor": 4
}
